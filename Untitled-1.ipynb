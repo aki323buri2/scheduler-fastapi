{
 "cells": [
  {
   "cell_type": "code",
   "execution_count": 1,
   "metadata": {},
   "outputs": [
    {
     "name": "stderr",
     "output_type": "stream",
     "text": [
      "INFO:     Started server process [38956]\n",
      "INFO:     Waiting for application startup.\n",
      "INFO:     Application startup complete.\n",
      "INFO:     Uvicorn running on http://127.0.0.1:8000 (Press CTRL+C to quit)\n"
     ]
    },
    {
     "name": "stdout",
     "output_type": "stream",
     "text": [
      "app started...\n",
      "1 cron job: call you https requests here...\n",
      "2 cron job: call you https requests here...\n",
      "3 cron job: call you https requests here...\n",
      "4 cron job: call you https requests here...\n",
      "5 cron job: call you https requests here...\n",
      "6 cron job: call you https requests here...\n",
      "7 cron job: call you https requests here...\n",
      "8 cron job: call you https requests here...\n"
     ]
    }
   ],
   "source": [
    "from fastapi import FastAPI \n",
    "from apscheduler.schedulers.background import BackgroundScheduler \n",
    "from contextlib import asynccontextmanager \n",
    "import nest_asyncio\n",
    "import uvicorn \n",
    "\n",
    "counter = 1\n",
    "\n",
    "def job_counter(): \n",
    "  global counter \n",
    "  print(\"cron job: call you https requests here...\")\n",
    "  counter = counter + 1\n",
    "\n",
    "@asynccontextmanager\n",
    "async def lifespan(_: FastAPI):\n",
    "  print(\"app started...\")\n",
    "  scheduler = BackgroundScheduler()\n",
    "  scheduler.add_job(\n",
    "    id=\"job1\", \n",
    "    func=job_counter, \n",
    "    trigger=\"cron\", \n",
    "    second=\"*/2\", \n",
    "  )\n",
    "  scheduler.start()\n",
    "  yield \n",
    "  print(\"app stoped...\")\n",
    "  scheduler.shutdown(wait=False)\n",
    "  print(\"scheduler shutdowned...\")\n",
    "\n",
    "app = FastAPI(lifespan=lifespan) \n",
    "\n",
    "if __name__ == \"__main__\": \n",
    "  nest_asyncio.apply() \n",
    "  uvicorn.run(app)"
   ]
  }
 ],
 "metadata": {
  "kernelspec": {
   "display_name": ".venv",
   "language": "python",
   "name": "python3"
  },
  "language_info": {
   "codemirror_mode": {
    "name": "ipython",
    "version": 3
   },
   "file_extension": ".py",
   "mimetype": "text/x-python",
   "name": "python",
   "nbconvert_exporter": "python",
   "pygments_lexer": "ipython3",
   "version": "3.11.6"
  }
 },
 "nbformat": 4,
 "nbformat_minor": 2
}
